{
 "cells": [
  {
   "cell_type": "markdown",
   "id": "41d85bf1",
   "metadata": {},
   "source": [
    "### Loading Images in Python"
   ]
  },
  {
   "cell_type": "code",
   "execution_count": null,
   "id": "beb248b6",
   "metadata": {},
   "outputs": [
    {
     "name": "stdout",
     "output_type": "stream",
     "text": [
      "Requirement already satisfied: pillow in c:\\users\\shamm\\new folder\\lib\\site-packages (10.4.0)\n",
      "Note: you may need to restart the kernel to use updated packages.\n"
     ]
    }
   ],
   "source": [
    "#pip install pillow"
   ]
  },
  {
   "cell_type": "code",
   "execution_count": 2,
   "id": "48133145",
   "metadata": {},
   "outputs": [],
   "source": [
    "from PIL import Image"
   ]
  },
  {
   "cell_type": "code",
   "execution_count": 4,
   "id": "70222ccd",
   "metadata": {},
   "outputs": [],
   "source": [
    "image_link = r\"C:\\Users\\shamm\\OneDrive\\Pictures\\honeycomb.jpg\""
   ]
  },
  {
   "cell_type": "code",
   "execution_count": 5,
   "id": "db19297d",
   "metadata": {},
   "outputs": [
    {
     "data": {
      "text/plain": [
       "'C:\\\\Users\\\\shamm\\\\OneDrive\\\\Pictures\\\\honeycomb.jpg'"
      ]
     },
     "execution_count": 5,
     "metadata": {},
     "output_type": "execute_result"
    }
   ],
   "source": [
    "image_link"
   ]
  },
  {
   "cell_type": "markdown",
   "id": "87229ccd",
   "metadata": {},
   "source": [
    "## Lets see if we can identify the defected area in image"
   ]
  },
  {
   "cell_type": "code",
   "execution_count": 6,
   "id": "4d18e9f2",
   "metadata": {},
   "outputs": [],
   "source": [
    "import google.generativeai as genai\n",
    "import os\n"
   ]
  },
  {
   "cell_type": "code",
   "execution_count": 7,
   "id": "1a9cc9ec",
   "metadata": {},
   "outputs": [],
   "source": [
    "genai.configure(api_key=os.getenv('GOOGLE_API_KEY'))\n",
    "model = genai.GenerativeModel('gemini-2.5-flash-lite')\n"
   ]
  },
  {
   "cell_type": "code",
   "execution_count": 8,
   "id": "07f8c318",
   "metadata": {},
   "outputs": [],
   "source": [
    "prompt = '''In the uploaded image. Identify the defected area and mark in\n",
    "the image . Return the image'''"
   ]
  },
  {
   "cell_type": "code",
   "execution_count": 9,
   "id": "39748f07",
   "metadata": {},
   "outputs": [
    {
     "data": {
      "text/plain": [
       "<bound method GenerativeModel.generate_content of genai.GenerativeModel(\n",
       "    model_name='models/gemini-2.5-flash-lite',\n",
       "    generation_config={},\n",
       "    safety_settings={},\n",
       "    tools=None,\n",
       "    system_instruction=None,\n",
       "    cached_content=None\n",
       ")>"
      ]
     },
     "execution_count": 9,
     "metadata": {},
     "output_type": "execute_result"
    }
   ],
   "source": [
    "model.generate_content"
   ]
  },
  {
   "cell_type": "code",
   "execution_count": 10,
   "id": "152d8571",
   "metadata": {},
   "outputs": [],
   "source": [
    "import datetime as dt"
   ]
  },
  {
   "cell_type": "code",
   "execution_count": 11,
   "id": "35faf66d",
   "metadata": {},
   "outputs": [
    {
     "name": "stdout",
     "output_type": "stream",
     "text": [
      "2025-09-17\n"
     ]
    }
   ],
   "source": [
    "print(dt.datetime.now().date())"
   ]
  },
  {
   "cell_type": "code",
   "execution_count": 12,
   "id": "d76873ca",
   "metadata": {},
   "outputs": [
    {
     "name": "stdout",
     "output_type": "stream",
     "text": [
      "11:28:02.468103\n"
     ]
    }
   ],
   "source": [
    "print(dt.datetime.now().time())"
   ]
  },
  {
   "cell_type": "code",
   "execution_count": 13,
   "id": "d0890ff9",
   "metadata": {},
   "outputs": [
    {
     "data": {
      "text/plain": [
       "'I cannot tell you the current date because I do not have access to real-time information. My knowledge cutoff is **June 2024**.'"
      ]
     },
     "execution_count": 13,
     "metadata": {},
     "output_type": "execute_result"
    }
   ],
   "source": [
    "model.generate_content('What is the date today').text"
   ]
  },
  {
   "cell_type": "markdown",
   "id": "acc5d448",
   "metadata": {},
   "source": [
    "## RANDOMNESS IN THE GENERATED TEXT"
   ]
  },
  {
   "cell_type": "code",
   "execution_count": 32,
   "id": "2551f1fd",
   "metadata": {},
   "outputs": [
    {
     "name": "stdout",
     "output_type": "stream",
     "text": [
      "Why did the engineer break up with the mathematician?\n",
      "\n",
      "Because they had too many **variables** and not enough **certainty**!\n"
     ]
    }
   ],
   "source": [
    "genai.configure(api_key=os.getenv('GOOGLE_API_KEY'))\n",
    "model = genai.GenerativeModel('gemini-2.5-flash-lite')\n",
    "prompt = 'Tell me a good joke on engineering'\n",
    "response = model.generate_content(prompt, generation_config={'top_k' : 1})\n",
    "print(response.text)"
   ]
  },
  {
   "cell_type": "markdown",
   "id": "2f86d9aa",
   "metadata": {},
   "source": [
    "METHODS TO CONTROL RANDOMNESS IN THE OUTPUT"
   ]
  },
  {
   "cell_type": "markdown",
   "id": "c1289488",
   "metadata": {},
   "source": [
    "Temperature (Controls the randomnesss and creativity)\n",
    "* 0 - Deterministic , focused and factual\n",
    "* 1 - Balanced creativity\n",
    "* greater than 1 - More diverse and less confident\n"
   ]
  },
  {
   "cell_type": "markdown",
   "id": "4ad71766",
   "metadata": {},
   "source": [
    "top_p = (nucleaus sampling - probability cutoff)\n",
    "top_k = (sample from top k likely tokens)"
   ]
  },
  {
   "cell_type": "markdown",
   "id": "623d0a32",
   "metadata": {},
   "source": [
    "# DEFINING FILE FORMATS IN STREAMLIT (MIME)\n"
   ]
  },
  {
   "cell_type": "code",
   "execution_count": null,
   "id": "16985e5a",
   "metadata": {},
   "outputs": [],
   "source": [
    "#Simple text\n",
    "\n",
    "mime = "
   ]
  }
 ],
 "metadata": {
  "kernelspec": {
   "display_name": "base",
   "language": "python",
   "name": "python3"
  },
  "language_info": {
   "codemirror_mode": {
    "name": "ipython",
    "version": 3
   },
   "file_extension": ".py",
   "mimetype": "text/x-python",
   "name": "python",
   "nbconvert_exporter": "python",
   "pygments_lexer": "ipython3",
   "version": "3.12.7"
  }
 },
 "nbformat": 4,
 "nbformat_minor": 5
}
